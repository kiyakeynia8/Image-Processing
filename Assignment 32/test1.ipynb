{
 "cells": [
  {
   "cell_type": "code",
   "execution_count": 58,
   "metadata": {},
   "outputs": [],
   "source": [
    "import cv2\n",
    "import numpy as np"
   ]
  },
  {
   "cell_type": "code",
   "execution_count": 57,
   "metadata": {},
   "outputs": [],
   "source": [
    "image = cv2.imread(\"input/board_noisy.png\", 0)\n",
    "for f in range(5):\n",
    "    result = np.zeros(image.shape)\n",
    "    for i in range(1, image.shape[0]-1):\n",
    "        for j in range(1,image.shape[1]-1):\n",
    "            small = image[i-1:i+2,j-1:j+2]\n",
    "            sort = np.sort(small,axis= None)\n",
    "            result[i,j] = sort[4]\n",
    "\n",
    "    cv2.imwrite(\"output assignment_32/test.png\", result)\n",
    "    image = cv2.imread(\"output assignment_32/test.png\", 0)"
   ]
  }
 ],
 "metadata": {
  "kernelspec": {
   "display_name": "Python 3.7.9 64-bit",
   "language": "python",
   "name": "python3"
  },
  "language_info": {
   "codemirror_mode": {
    "name": "ipython",
    "version": 3
   },
   "file_extension": ".py",
   "mimetype": "text/x-python",
   "name": "python",
   "nbconvert_exporter": "python",
   "pygments_lexer": "ipython3",
   "version": "3.7.9"
  },
  "orig_nbformat": 4,
  "vscode": {
   "interpreter": {
    "hash": "862951d8f3ae58e49ee79b6063238f05fc5fc6f4f07adb4ca309b6c6ee000efc"
   }
  }
 },
 "nbformat": 4,
 "nbformat_minor": 2
}
